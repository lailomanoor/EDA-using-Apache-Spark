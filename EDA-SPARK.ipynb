{
  "nbformat": 4,
  "nbformat_minor": 0,
  "metadata": {
    "colab": {
      "provenance": []
    },
    "kernelspec": {
      "name": "python3",
      "display_name": "Python 3"
    },
    "language_info": {
      "name": "python"
    }
  },
  "cells": [
    {
      "cell_type": "code",
      "source": [
        "# installing java\n",
        "!apt-get install openjdk-8-jdk-headless -qq > /dev/null\n",
        "\n",
        "# downloading apache spark 3.5.3\n",
        "!wget -q https://dlcdn.apache.org/spark/spark-3.5.3/spark-3.5.3-bin-hadoop3.tgz\n",
        "\n",
        "# to extract the donwloaded file\n",
        "!tar xf spark-3.5.3-bin-hadoop3.tgz\n",
        "\n",
        "# Installing findspark so we can locate Spark\n",
        "!pip install -q findspark\n"
      ],
      "metadata": {
        "id": "CQZlQdULmiB-"
      },
      "execution_count": 5,
      "outputs": []
    },
    {
      "cell_type": "code",
      "source": [
        "import os\n",
        "\n",
        "# setting java environment variable\n",
        "os.environ[\"JAVA_HOME\"] = \"/usr/lib/jvm/java-8-openjdk-amd64\"\n",
        "\n",
        "# setting spark environment variable\n",
        "os.environ[\"SPARK_HOME\"] = \"/content/spark-3.5.3-bin-hadoop3\"\n"
      ],
      "metadata": {
        "id": "L0q8oVHGomWL"
      },
      "execution_count": 6,
      "outputs": []
    },
    {
      "cell_type": "code",
      "source": [
        "import findspark\n",
        "findspark.init()\n",
        "\n",
        "from pyspark.sql import SparkSession\n",
        "\n",
        "# creating a soark session\n",
        "spark = SparkSession.builder \\\n",
        "    .appName(\"Colab Spark Test\") \\\n",
        "    .getOrCreate()\n",
        "\n",
        "# testing the Spark session by displaying numbers 1-10\n",
        "spark.range(10).show()\n"
      ],
      "metadata": {
        "colab": {
          "base_uri": "https://localhost:8080/"
        },
        "id": "71OxcHQRopDh",
        "outputId": "c9e68c2a-d76b-4fe1-d705-e555014a58b2"
      },
      "execution_count": 7,
      "outputs": [
        {
          "output_type": "stream",
          "name": "stdout",
          "text": [
            "+---+\n",
            "| id|\n",
            "+---+\n",
            "|  0|\n",
            "|  1|\n",
            "|  2|\n",
            "|  3|\n",
            "|  4|\n",
            "|  5|\n",
            "|  6|\n",
            "|  7|\n",
            "|  8|\n",
            "|  9|\n",
            "+---+\n",
            "\n"
          ]
        }
      ]
    },
    {
      "cell_type": "code",
      "source": [
        "# path of the netflix movies and shows dataset\n",
        "file_path = '/content/netflix_titles.csv'"
      ],
      "metadata": {
        "id": "itFN8SBRpJqR"
      },
      "execution_count": 8,
      "outputs": []
    },
    {
      "cell_type": "code",
      "source": [
        "# loading the dataset using spark\n",
        "netflix_df = spark.read.csv(file_path, header=True, inferSchema=True)\n",
        "\n",
        "# showing the schema\n",
        "netflix_df.printSchema()\n",
        "\n",
        "# displaying first 5 rows\n",
        "netflix_df.show(5)\n"
      ],
      "metadata": {
        "colab": {
          "base_uri": "https://localhost:8080/"
        },
        "id": "R9hnngW8pXmg",
        "outputId": "30d2d295-9323-47dd-939c-338a9aef2763"
      },
      "execution_count": 9,
      "outputs": [
        {
          "output_type": "stream",
          "name": "stdout",
          "text": [
            "root\n",
            " |-- show_id: string (nullable = true)\n",
            " |-- type: string (nullable = true)\n",
            " |-- title: string (nullable = true)\n",
            " |-- director: string (nullable = true)\n",
            " |-- cast: string (nullable = true)\n",
            " |-- country: string (nullable = true)\n",
            " |-- date_added: string (nullable = true)\n",
            " |-- release_year: string (nullable = true)\n",
            " |-- rating: string (nullable = true)\n",
            " |-- duration: string (nullable = true)\n",
            " |-- listed_in: string (nullable = true)\n",
            " |-- description: string (nullable = true)\n",
            "\n",
            "+-------+-------+--------------------+---------------+--------------------+-------------+------------------+------------+------+---------+--------------------+--------------------+\n",
            "|show_id|   type|               title|       director|                cast|      country|        date_added|release_year|rating| duration|           listed_in|         description|\n",
            "+-------+-------+--------------------+---------------+--------------------+-------------+------------------+------------+------+---------+--------------------+--------------------+\n",
            "|     s1|  Movie|Dick Johnson Is Dead|Kirsten Johnson|                NULL|United States|September 25, 2021|        2020| PG-13|   90 min|       Documentaries|As her father nea...|\n",
            "|     s2|TV Show|       Blood & Water|           NULL|Ama Qamata, Khosi...| South Africa|September 24, 2021|        2021| TV-MA|2 Seasons|International TV ...|After crossing pa...|\n",
            "|     s3|TV Show|           Ganglands|Julien Leclercq|Sami Bouajila, Tr...|         NULL|September 24, 2021|        2021| TV-MA| 1 Season|Crime TV Shows, I...|To protect his fa...|\n",
            "|     s4|TV Show|Jailbirds New Orl...|           NULL|                NULL|         NULL|September 24, 2021|        2021| TV-MA| 1 Season|Docuseries, Reali...|Feuds, flirtation...|\n",
            "|     s5|TV Show|        Kota Factory|           NULL|Mayur More, Jiten...|        India|September 24, 2021|        2021| TV-MA|2 Seasons|International TV ...|In a city of coac...|\n",
            "+-------+-------+--------------------+---------------+--------------------+-------------+------------------+------------+------+---------+--------------------+--------------------+\n",
            "only showing top 5 rows\n",
            "\n"
          ]
        }
      ]
    },
    {
      "cell_type": "code",
      "source": [
        "print(f\"Number of rows: {netflix_df.count()}, Number of columns: {len(netflix_df.columns)}\")\n"
      ],
      "metadata": {
        "colab": {
          "base_uri": "https://localhost:8080/"
        },
        "id": "N-NE23I9pbLA",
        "outputId": "da6d54e3-5dc2-4bef-f703-bda4ac922e9b"
      },
      "execution_count": 10,
      "outputs": [
        {
          "output_type": "stream",
          "name": "stdout",
          "text": [
            "Number of rows: 8809, Number of columns: 12\n"
          ]
        }
      ]
    },
    {
      "cell_type": "code",
      "source": [
        "# some statistics for the columns\n",
        "netflix_df.describe().show()"
      ],
      "metadata": {
        "colab": {
          "base_uri": "https://localhost:8080/"
        },
        "id": "C2omLZKmpeHx",
        "outputId": "efc74a87-e0fb-4af3-f708-98efac3f5e2a"
      },
      "execution_count": 11,
      "outputs": [
        {
          "output_type": "stream",
          "name": "stdout",
          "text": [
            "+-------+--------------------+-------------+---------------------------------+--------------------+--------------------+----------------+---------------+-----------------+-----------------+-------------+--------------------+--------------------+\n",
            "|summary|             show_id|         type|                            title|            director|                cast|         country|     date_added|     release_year|           rating|     duration|           listed_in|         description|\n",
            "+-------+--------------------+-------------+---------------------------------+--------------------+--------------------+----------------+---------------+-----------------+-----------------+-------------+--------------------+--------------------+\n",
            "|  count|                8809|         8808|                             8807|                6173|                7983|            7977|           8796|             8807|             8803|         8804|                8806|                8806|\n",
            "|   mean|                NULL|         NULL|               1124.7692307692307|                NULL|                NULL|          1944.0|           NULL|2014.189598270172|           2016.8|       1994.0|                NULL|  2014.6666666666667|\n",
            "| stddev|                NULL|         NULL|               1042.1800991068478|                NULL|                NULL|            NULL|           NULL|8.786618147271653|6.260990336999442|         NULL|                NULL|   4.509249752822894|\n",
            "|    min| and probably will.\"|        Movie|             \"Behind \"\"The Cov...|\"Sam \"\"Blitz\"\" Ba...|\"Black Deniro, By...| Ama K. Abebrese| April 15, 2018|   Charles Rocket|    Adriane Lenox| Alan Cumming|          Akin Lewis|      Alicia Sánchez|\n",
            "|    max|                s999|William Wyler|최강전사 미니특공대 : 영웅의 탄생|        Şenol Sönmez|Ṣọpẹ́ Dìrísù, Wun...|        Zimbabwe|  United States|    United States|               UR|United States|United States, Un...|“Last Chance U” h...|\n",
            "+-------+--------------------+-------------+---------------------------------+--------------------+--------------------+----------------+---------------+-----------------+-----------------+-------------+--------------------+--------------------+\n",
            "\n"
          ]
        }
      ]
    },
    {
      "cell_type": "code",
      "source": [
        "from pyspark.sql.functions import col, sum\n",
        "\n",
        "# counting the number of missing values in each column\n",
        "missing_values = netflix_df.select(\n",
        "    [(sum(col(c).isNull().cast(\"int\")).alias(c)) for c in netflix_df.columns]\n",
        ")\n",
        "missing_values.show()\n"
      ],
      "metadata": {
        "colab": {
          "base_uri": "https://localhost:8080/"
        },
        "id": "BHoQ5x1Mpj2U",
        "outputId": "58f97a35-f8eb-4347-dec5-e30bda5b8062"
      },
      "execution_count": 12,
      "outputs": [
        {
          "output_type": "stream",
          "name": "stdout",
          "text": [
            "+-------+----+-----+--------+----+-------+----------+------------+------+--------+---------+-----------+\n",
            "|show_id|type|title|director|cast|country|date_added|release_year|rating|duration|listed_in|description|\n",
            "+-------+----+-----+--------+----+-------+----------+------------+------+--------+---------+-----------+\n",
            "|      0|   1|    2|    2636| 826|    832|        13|           2|     6|       5|        3|          3|\n",
            "+-------+----+-----+--------+----+-------+----------+------------+------+--------+---------+-----------+\n",
            "\n"
          ]
        }
      ]
    },
    {
      "cell_type": "code",
      "source": [
        "# counting by type (movie or tv show)\n",
        "netflix_df.groupBy(\"type\").count().show()"
      ],
      "metadata": {
        "colab": {
          "base_uri": "https://localhost:8080/"
        },
        "id": "SuZH9Q6Lpm3P",
        "outputId": "0ce9f1cb-44dd-41d4-ea17-deff524072c3"
      },
      "execution_count": 13,
      "outputs": [
        {
          "output_type": "stream",
          "name": "stdout",
          "text": [
            "+-------------+-----+\n",
            "|         type|count|\n",
            "+-------------+-----+\n",
            "|         NULL|    1|\n",
            "|      TV Show| 2676|\n",
            "|        Movie| 6131|\n",
            "|William Wyler|    1|\n",
            "+-------------+-----+\n",
            "\n"
          ]
        }
      ]
    },
    {
      "cell_type": "code",
      "source": [
        "from pyspark.sql.functions import year, to_date\n",
        "\n",
        "# extracting year from date_added column. then counting the number of shows added each year\n",
        "netflix_df = netflix_df.withColumn(\"year_added\", year(to_date(col(\"date_added\"), \"MMMM d, yyyy\")))\n",
        "content_by_year = netflix_df.groupBy(\"year_added\").count().orderBy(\"year_added\")\n",
        "content_by_year.show()"
      ],
      "metadata": {
        "colab": {
          "base_uri": "https://localhost:8080/"
        },
        "id": "DZcCOPf-ptiZ",
        "outputId": "255e5c06-ea68-4fab-da4f-8ecb9877f64e"
      },
      "execution_count": 17,
      "outputs": [
        {
          "output_type": "stream",
          "name": "stdout",
          "text": [
            "+----------+-----+\n",
            "|year_added|count|\n",
            "+----------+-----+\n",
            "|      NULL|  120|\n",
            "|      2008|    2|\n",
            "|      2009|    2|\n",
            "|      2010|    1|\n",
            "|      2011|   13|\n",
            "|      2012|    3|\n",
            "|      2013|   10|\n",
            "|      2014|   23|\n",
            "|      2015|   72|\n",
            "|      2016|  418|\n",
            "|      2017| 1162|\n",
            "|      2018| 1623|\n",
            "|      2019| 1997|\n",
            "|      2020| 1872|\n",
            "|      2021| 1491|\n",
            "+----------+-----+\n",
            "\n"
          ]
        }
      ]
    },
    {
      "cell_type": "code",
      "source": [
        "# counting number of movies/shows in top 10 genres\n",
        "from pyspark.sql.functions import explode, split\n",
        "\n",
        "genres_df = netflix_df.withColumn(\"genre\", explode(split(col(\"listed_in\"), \", \")))\n",
        "popular_genres = genres_df.groupBy(\"genre\").count().orderBy(col(\"count\").desc())\n",
        "popular_genres.show(10)"
      ],
      "metadata": {
        "colab": {
          "base_uri": "https://localhost:8080/"
        },
        "id": "kRItI5uWp-1Y",
        "outputId": "99a746b6-ac3e-4710-a4a3-70ff6e24ccad"
      },
      "execution_count": 21,
      "outputs": [
        {
          "output_type": "stream",
          "name": "stdout",
          "text": [
            "+--------------------+-----+\n",
            "|               genre|count|\n",
            "+--------------------+-----+\n",
            "|International Movies| 2748|\n",
            "|              Dramas| 2419|\n",
            "|            Comedies| 1670|\n",
            "|International TV ...| 1350|\n",
            "|       Documentaries|  866|\n",
            "|  Action & Adventure|  857|\n",
            "|           TV Dramas|  762|\n",
            "|  Independent Movies|  751|\n",
            "|Children & Family...|  641|\n",
            "|     Romantic Movies|  616|\n",
            "+--------------------+-----+\n",
            "only showing top 10 rows\n",
            "\n"
          ]
        }
      ]
    },
    {
      "cell_type": "code",
      "source": [
        "# counting the number of movies/shows by rating\n",
        "ratings_distribution = netflix_df.groupBy(\"rating\").count().orderBy(col(\"count\").desc())\n",
        "ratings_distribution.show()"
      ],
      "metadata": {
        "colab": {
          "base_uri": "https://localhost:8080/"
        },
        "id": "QgstVnMurXYu",
        "outputId": "25824e3d-8669-45a6-b688-64a714a52fdb"
      },
      "execution_count": 22,
      "outputs": [
        {
          "output_type": "stream",
          "name": "stdout",
          "text": [
            "+-----------------+-----+\n",
            "|           rating|count|\n",
            "+-----------------+-----+\n",
            "|            TV-MA| 3195|\n",
            "|            TV-14| 2158|\n",
            "|            TV-PG|  862|\n",
            "|                R|  796|\n",
            "|            PG-13|  489|\n",
            "|            TV-Y7|  334|\n",
            "|             TV-Y|  307|\n",
            "|               PG|  286|\n",
            "|             TV-G|  220|\n",
            "|               NR|   80|\n",
            "|                G|   41|\n",
            "|             NULL|    6|\n",
            "|         TV-Y7-FV|    6|\n",
            "|               UR|    3|\n",
            "|            NC-17|    3|\n",
            "|             2021|    2|\n",
            "| November 1, 2020|    1|\n",
            "| Shavidee Trotter|    1|\n",
            "|    Adriane Lenox|    1|\n",
            "|    Maury Chaykin|    1|\n",
            "+-----------------+-----+\n",
            "only showing top 20 rows\n",
            "\n"
          ]
        }
      ]
    }
  ]
}